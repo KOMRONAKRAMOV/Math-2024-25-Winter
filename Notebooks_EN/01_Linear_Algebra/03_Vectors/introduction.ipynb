{
    "nbformat": 4,
    "nbformat_minor": 5,
    "metadata": {},
    "cells": [
        {
            "cell_type": "markdown",
            "metadata": {},
            "source": "# Vector Operations Exercises"
        },
        {
            "cell_type": "markdown",
            "metadata": {},
            "source": "## Exercise A"
        },
        {
            "cell_type": "code",
            "metadata": {},
            "execution_count": null,
            "outputs": [],
            "source": "\na = np.array([3, 4])\nlength_a = np.sqrt(3**2 + 4**2)\nscale_factor_a = 1 / length_a\nunit_a = a / length_a\n\nlength_a, scale_factor_a, unit_a\n"
        },
        {
            "cell_type": "markdown",
            "metadata": {},
            "source": "## Exercise B and C"
        },
        {
            "cell_type": "code",
            "metadata": {},
            "execution_count": null,
            "outputs": [],
            "source": "\nb = np.array([1, 1])\nlength_b = np.sqrt(1**2 + 1**2)\nunit_b = b / length_b\n\nlength_b, unit_b\n"
        },
        {
            "cell_type": "code",
            "metadata": {},
            "execution_count": null,
            "outputs": [],
            "source": "\nimport matplotlib.pyplot as plt\n\nplt.figure(figsize=(6, 6))\nplt.quiver(0, 0, b[0], b[1], angles='xy', scale_units='xy', scale=1, color='r', label=\"Vector b\")\nplt.quiver(0, 0, unit_b[0], unit_b[1], angles='xy', scale_units='xy', scale=1, color='b', label=\"Unit Vector b\")\nplt.xlim(-0.5, 1.5)\nplt.ylim(-0.5, 1.5)\nplt.grid()\nplt.axhline(0, color='black', linewidth=0.5)\nplt.axvline(0, color='black', linewidth=0.5)\nplt.legend()\nplt.title(\"Vector b and its Unit Vector\")\nplt.xlabel(\"x\")\nplt.ylabel(\"y\")\nplt.show()\n"
        },
        {
            "cell_type": "markdown",
            "metadata": {},
            "source": "## Exercise D"
        },
        {
            "cell_type": "code",
            "metadata": {},
            "execution_count": null,
            "outputs": [],
            "source": "\nc = np.array([1, 2, 3])\nlength_c = np.sqrt(1**2 + 2**2 + 3**2)\nunit_c = c / length_c\n\nlength_c, unit_c\n"
        },
        {
            "cell_type": "markdown",
            "metadata": {},
            "source": "## Exercise E"
        },
        {
            "cell_type": "code",
            "metadata": {},
            "execution_count": null,
            "outputs": [],
            "source": "\nv = np.array([2, 3, 4])\nbasis = [[1, 0, 1], [0, 1, 0], [1, 0, -1]]\nbasis_matrix = np.array(basis).T\ncoordinates_in_basis = np.linalg.solve(basis_matrix, v)\n\ncoordinates_in_basis\n"
        }
    ]
}