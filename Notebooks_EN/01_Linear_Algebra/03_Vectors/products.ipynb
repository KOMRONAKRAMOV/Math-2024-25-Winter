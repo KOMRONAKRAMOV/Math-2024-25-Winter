{
 "cells": [
  {
   "cell_type": "markdown",
   "metadata": {},
   "source": [
    "# Student Exercises\n",
    "\n",
    "This notebook covers exercises related to vector operations, including addition, area calculation, volume calculation, checking perpendicularity, and finding angles."
   ]
  },
  {
   "cell_type": "code",
   "execution_count": 1,
   "metadata": {},
   "outputs": [],
   "source": [
    "import numpy as np\n",
    "import matplotlib.pyplot as plt\n",
    "\n",
    "# A. Perform the addition of vector [2, 1] to vector [-1, 1]\n",
    "v1 = np.array([2, 1])\n",
    "v2 = np.array([-1, 1])\n",
    "v_sum = v1 + v2\n",
    "\n",
    "# Plotting the vectors and their sum\n",
    "plt.quiver(0, 0, v1[0], v1[1], angles='xy', scale_units='xy', scale=1, color='r', label='Vector [2, 1]')\n",
    "plt.quiver(0, 0, v2[0], v2[1], angles='xy', scale_units='xy', scale=1, color='b', label='Vector [-1, 1]')\n",
    "plt.quiver(0, 0, v_sum[0], v_sum[1], angles='xy', scale_units='xy', scale=1, color='g', label='Sum [1, 2]')\n",
    "plt.xlim(-3, 3)\n",
    "plt.ylim(-3, 3)\n",
    "plt.axhline(0, color='black',linewidth=0.5, ls='--')\n",
    "plt.axvline(0, color='black',linewidth=0.5, ls='--')\n",
    "plt.grid()\n",
    "plt.gca().set_aspect('equal', adjustable='box')\n",
    "plt.legend()\n",
    "plt.title('Vector Addition')\n",
    "plt.show()"
   ]
  },
  {
   "cell_type": "markdown",
   "metadata": {},
   "source": [
    "### B. Calculate the area of the triangle spanned by vectors [2, 1] and [-1, 1].\n",
    "\n",
    "The area \( A \) of a triangle spanned by two vectors \( \mathbf{u} \) and \( \mathbf{v} \) can be calculated as:\n",
    "\n",
    "\\[ A = \\frac{1}{2} \\| \\mathbf{u} \\times \\mathbf{v} \\| \\]\n",
    "\n",
    "In 2D, this can be simplified to:\n",
    "\\[ A = \\frac{1}{2} |u_x v_y - u_y v_x| \\]"
   ]
  },
  {
   "cell_type": "code",
   "execution_count": 2,
   "metadata": {},
   "outputs": [],
   "source": [
    "# Calculate the area of the triangle\n",
    "u = np.array([2, 1])\n",
    "v = np.array([-1, 1])\n",
    "\n",
    "area = 0.5 * np.abs(u[0] * v[1] - u[1] * v[0])\n",
    "area"
   ]
  },
  {
   "cell_type": "markdown",
   "metadata": {},
   "source": [
    "### C. Calculate the volume of the parallelepiped spanned by vectors [2, 1], [-1, 1], and [1, 2].\n",
    "\n",
    "The volume \( V \) of a parallelepiped defined by three vectors \( \mathbf{a}, \mathbf{b}, \mathbf{c} \) can be calculated using the scalar triple product:\n",
    "\n",
    "\\[ V = |\\mathbf{a} \\cdot (\\mathbf{b} \\times \\mathbf{c})| \\]"
   ]
  },
  {
   "cell_type": "code",
   "execution_count": 3,
   "metadata": {},
   "outputs": [],
   "source": [
    "# Calculate the volume of the parallelepiped\n",
    "a = np.array([2, 1, 0])\n",
    "b = np.array([-1, 1, 0])\n",
    "c = np.array([1, 2, 0])\n",
    "\n",
    "volume = np.abs(np.dot(a, np.cross(b, c)))\n",
    "volume"
   ]
  },
  {
   "cell_type": "markdown",
   "metadata": {},
   "source": [
    "### D. Check if vectors [2, 1] and [-1, 1] are perpendicular.\n",
    "\n",
    "Two vectors are perpendicular if their dot product is zero:\n",
    "\n",
    "\\[ \\mathbf{u} \\cdot \\mathbf{v} = 0 \\]"
   ]
  },
  {
   "cell_type": "code",
   "execution_count": 4,
   "metadata": {},
   "outputs": [],
   "source": [
    "# Check if vectors are perpendicular\n",
    "dot_product = np.dot(v1, v2)\n",
    "is_perpendicular = dot_product == 0\n",
    "dot_product, is_perpendicular"
   ]
  },
  {
   "cell_type": "markdown",
   "metadata": {},
   "source": [
    "### E. Calculate the angle in degrees between vectors [4, 2, 1] and [1, 3, 2].\n",
    "\n",
    "The angle \( \\theta \) between two vectors can be calculated using the dot product and the magnitudes of the vectors:\n",
    "\n",
    "\\[ \\theta = \\arccos\\left( \\frac{\\mathbf{u} \\cdot \\mathbf{v}}{\\|\\mathbf{u}\\| \\|\\mathbf{v}\\|} \\right) \\]"
   ]
  },
  {
   "cell_type": "code",
   "execution_count": 5,
   "metadata": {},
   "outputs": [],
   "source": [
    "# Calculate the angle between vectors\n",
    "u_angle = np.array([4, 2, 1])\n",
    "v_angle = np.array([1, 3, 2])\n",
    "\n",
    "cos_theta = np.dot(u_angle, v_angle) / (np.linalg.norm(u_angle) * np.linalg.norm(v_angle))\n",
    "theta = np.degrees(np.arccos(cos_theta))\n",
    "theta"
   ]
  },
  {
   "cell_type": "markdown",
   "metadata": {},
   "source": [
    "### F. Prove the identity: \\( \\mathbf{a} \\times (\\mathbf{b} \\times \\mathbf{c}) = (\\mathbf{a} \\cdot \\mathbf{c}) \\mathbf{b} - (\\mathbf{a} \\cdot \\mathbf{b}) \\mathbf{c} \\)\n",
    "\n",
    "Let \\( \\mathbf{a} = [az, ay, az], \\mathbf{b} = [bz, by, bz], \\mathbf{c} = [Cz, Cy, Cz] \\) be three-dimensional vectors.\n",
    "\n    To verify the identity, we will calculate both sides."
   ]
  },
  {
   "cell_type": "code",
   "execution_count": 6,
   "metadata": {},
   "outputs": [],
   "source": [
    "# Define three 3D vectors\n",
    "a = np.array([1, 2, 1])  # Example values for az, ay, az\n",
    "b = np.array([2, 3, 2])  # Example values for bz, by, bz\n",
    "c = np.array([3, 1, 3])  # Example values for Cz, Cy, Cz\n",
    "\n",
    "# Left-hand side: a x (b x c)\n",
    "cross_bc = np.cross(b, c)\n",
    "lhs = np.cross(a, cross_bc)\n",
    "\n",
    "# Right-hand side: (a . c) b - (a . b) c\n",
    "dot_ac = np.dot(a, c)\n",
    "dot_ab = np.dot(a, b)\n",
    "rhs = dot_ac * b - dot_ab * c\n",
    "\n",
    "lhs, rhs, np.array_equal(lhs, rhs)"
   ]
  }
 ],
 "metadata": {
  "kernelspec": {
   "display_name": "Python 3",
   "language": "python",
   "name": "python3"
  },
  "language_info": {
   "codemirror_mode": {
    "name": "ipython",
    "version": 3
   },
   "file_extension": ".py",
   "mimetype": "text/x-python",
   "name": "python",
   "nbconvert_exporter": "python",
   "pygments_lexer": "ipython3",
   "version": "3.8.5"
  }
 },
 "nbformat": 4,
 "nbformat_minor": 4
}