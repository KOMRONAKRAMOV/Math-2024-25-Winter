{
  "nbformat": 4,
  "nbformat_minor": 0,
  "metadata": {
    "colab": {
      "provenance": []
    },
    "kernelspec": {
      "name": "python3",
      "display_name": "Python 3"
    },
    "language_info": {
      "name": "python"
    }
  },
  "cells": [
    {
      "cell_type": "code",
      "source": [
        "# Required Libraries\n",
        "import numpy as np\n",
        "import matplotlib.pyplot as plt\n",
        "\n",
        "# Helper Functions\n",
        "def plot_line_segment(A, B, ratio, color='blue'):\n",
        "    P = ((B[0] - A[0]) * ratio / (1 + ratio) + A[0],\n",
        "         (B[1] - A[1]) * ratio / (1 + ratio) + A[1])\n",
        "    plt.plot([A[0], B[0]], [A[1], B[1]], color=color)\n",
        "    plt.plot(P[0], P[1], 'ro')\n",
        "    plt.text(P[0], P[1], f' P {P}', fontsize=12, ha='right')\n",
        "\n",
        "def plot_vector_projection(origin, vector, projection, color='orange'):\n",
        "    plt.quiver(*origin, *vector, angles='xy', scale_units='xy', scale=1, color='blue', label='Vector')\n",
        "    plt.quiver(*origin, *projection, angles='xy', scale_units='xy', scale=1, color=color, label='Projection')\n",
        "    plt.xlim(-5, 5)\n",
        "    plt.ylim(-5, 5)\n",
        "    plt.axhline(0, color='black',linewidth=0.5, ls='--')\n",
        "    plt.axvline(0, color='black',linewidth=0.5, ls='--')\n",
        "    plt.grid()\n",
        "    plt.legend()\n",
        "\n",
        "# 1. Divide segment AB in the ratio 1:3\n",
        "A = np.array([-1, 2])\n",
        "B = np.array([3, -2])\n",
        "ratio = 1/3\n",
        "plot_line_segment(A, B, ratio)\n",
        "plt.title('Division of Line Segment AB in Ratio 1:3')\n",
        "plt.xlabel('X-axis')\n",
        "plt.ylabel('Y-axis')\n",
        "plt.grid()\n",
        "plt.show()\n",
        "\n",
        "# 2. Project vector (3, 4) onto OX and OY axes.\n",
        "vector_a = np.array([3, 4])\n",
        "proj_x = np.array([vector_a[0], 0])\n",
        "proj_y = np.array([0, vector_a[1]])\n",
        "\n",
        "plt.figure(figsize=(8, 8))\n",
        "plt.title('Projection of Vector a onto OX and OY axes')\n",
        "plot_vector_projection((0, 0), vector_a, proj_x, color='red')\n",
        "plot_vector_projection((0, 0), vector_a, proj_y, color='green')\n",
        "plt.show()\n",
        "\n",
        "# 3. Project vector a onto vector b\n",
        "a = np.array([2, 3])\n",
        "b = np.array([1, 1])\n",
        "proj_a_on_b = (np.dot(a, b) / np.dot(b, b)) * b\n",
        "\n",
        "plt.figure(figsize=(8, 8))\n",
        "plt.title('Projection of Vector a onto Vector b')\n",
        "plot_vector_projection((0, 0), a, proj_a_on_b, color='purple')\n",
        "plt.xlim(-1, 4)\n",
        "plt.ylim(-1, 4)\n",
        "plt.grid()\n",
        "plt.show()\n",
        "\n",
        "# 4. Project vector b onto vector a\n",
        "proj_b_on_a = (np.dot(b, a) / np.dot(a, a)) * a\n",
        "\n",
        "plt.figure(figsize=(8, 8))\n",
        "plt.title('Projection of Vector b onto Vector a')\n",
        "plot_vector_projection((0, 0), b, proj_b_on_a, color='cyan')\n",
        "plt.xlim(-1, 4)\n",
        "plt.ylim(-1, 4)\n",
        "plt.grid()\n",
        "plt.show()\n"
      ],
      "metadata": {
        "id": "nm0yuR1dRCe1"
      },
      "execution_count": null,
      "outputs": []
    }
  ]
}