{
 "cells": [
  {
   "cell_type": "markdown",
   "id": "f8c69378",
   "metadata": {},
   "source": [
    "\n",
    "# Geometry and Linear Algebra Exercises in Python\n",
    "\n",
    "This notebook contains Python code to solve various geometry and linear algebra problems related to lines, slopes, angles, and distances.\n"
   ]
  },
  {
   "cell_type": "markdown",
   "id": "56b8f7f2",
   "metadata": {},
   "source": [
    "\n",
    "## 1. Equation of the Line Passing Through Two Points A(1,2) and B(3,4)\n",
    "\n",
    "We use the formula for slope and point-slope form of a line equation.\n"
   ]
  },
  {
   "cell_type": "code",
   "execution_count": null,
   "id": "0e33d4cc",
   "metadata": {},
   "outputs": [],
   "source": [
    "\n",
    "# Points\n",
    "x1, y1 = 1, 2\n",
    "x2, y2 = 3, 4\n",
    "\n",
    "# Slope\n",
    "m = (y2 - y1) / (x2 - x1)\n",
    "\n",
    "# Equation of the line: y - y1 = m * (x - x1)\n",
    "x, y = symbols('x y')\n",
    "line_eq = Eq(y - y1, m * (x - x1))\n",
    "line_eq\n"
   ]
  },
  {
   "cell_type": "markdown",
   "id": "0fbf6938",
   "metadata": {},
   "source": [
    "\n",
    "## 2. Equation of the Line Passing Through A(1,2) and Parallel to y = 2x + 3\n",
    "\n",
    "Parallel lines have the same slope.\n"
   ]
  },
  {
   "cell_type": "code",
   "execution_count": null,
   "id": "7ed3a7a6",
   "metadata": {},
   "outputs": [],
   "source": [
    "\n",
    "# Given slope from y = 2x + 3\n",
    "m_parallel = 2\n",
    "\n",
    "# Equation of the line: y - y1 = m_parallel * (x - x1)\n",
    "line_eq_parallel = Eq(y - y1, m_parallel * (x - x1))\n",
    "line_eq_parallel\n"
   ]
  },
  {
   "cell_type": "markdown",
   "id": "fbadf703",
   "metadata": {},
   "source": [
    "\n",
    "## 3. Equation of the Line Passing Through A(1,2) and Perpendicular to y = 2x + 3\n",
    "\n",
    "The slope of perpendicular lines is the negative reciprocal.\n"
   ]
  },
  {
   "cell_type": "code",
   "execution_count": null,
   "id": "225671a8",
   "metadata": {},
   "outputs": [],
   "source": [
    "\n",
    "# Perpendicular slope\n",
    "m_perpendicular = -1 / m_parallel\n",
    "\n",
    "# Equation of the line: y - y1 = m_perpendicular * (x - x1)\n",
    "line_eq_perpendicular = Eq(y - y1, m_perpendicular * (x - x1))\n",
    "line_eq_perpendicular\n"
   ]
  },
  {
   "cell_type": "markdown",
   "id": "630c4b32",
   "metadata": {},
   "source": [
    "\n",
    "## 4. Intersection and Angle Between Two Lines\n",
    "\n",
    "Lines: y = 2x + 3 and y = 3x + 2\n"
   ]
  },
  {
   "cell_type": "code",
   "execution_count": null,
   "id": "d013e528",
   "metadata": {},
   "outputs": [],
   "source": [
    "\n",
    "# Line equations\n",
    "line1 = Eq(y, 2 * x + 3)\n",
    "line2 = Eq(y, 3 * x + 2)\n",
    "\n",
    "# Intersection point\n",
    "intersection = solve([line1, line2], (x, y))\n",
    "\n",
    "# Angle between lines\n",
    "m1, m2 = 2, 3\n",
    "angle_rad = abs(atan((m2 - m1) / (1 + m1 * m2)))\n",
    "angle_deg = math.degrees(angle_rad)\n",
    "\n",
    "intersection, angle_deg\n"
   ]
  },
  {
   "cell_type": "markdown",
   "id": "e749592d",
   "metadata": {},
   "source": [
    "\n",
    "## 5. Equation of Line Passing Through A(1,2) and Parallel to Vector v = [2,3]\n",
    "\n",
    "The slope of the line is determined by the vector direction.\n"
   ]
  },
  {
   "cell_type": "code",
   "execution_count": null,
   "id": "0fa010fd",
   "metadata": {},
   "outputs": [],
   "source": [
    "\n",
    "# Vector direction gives slope\n",
    "vx, vy = 2, 3\n",
    "m_vector = vy / vx\n",
    "\n",
    "# Equation of the line: y - y1 = m_vector * (x - x1)\n",
    "line_eq_vector = Eq(y - y1, m_vector * (x - x1))\n",
    "line_eq_vector\n"
   ]
  },
  {
   "cell_type": "markdown",
   "id": "00a01400",
   "metadata": {},
   "source": [
    "\n",
    "## 6. Example of Lines Parallel and Perpendicular to y = 2x + 3\n"
   ]
  },
  {
   "cell_type": "code",
   "execution_count": null,
   "id": "4257bfbc",
   "metadata": {},
   "outputs": [],
   "source": [
    "\n",
    "# Parallel: y - y1 = m_parallel * (x - x1)\n",
    "example_parallel = Eq(y, m_parallel * x + 1)\n",
    "\n",
    "# Perpendicular: y - y1 = m_perpendicular * (x - x1)\n",
    "example_perpendicular = Eq(y, m_perpendicular * x + 5)\n",
    "\n",
    "example_parallel, example_perpendicular\n"
   ]
  },
  {
   "cell_type": "markdown",
   "id": "74a0972c",
   "metadata": {},
   "source": [
    "\n",
    "## 7. Distance from A(1,2) to Line y = 2x + 3\n",
    "\n",
    "Use the distance formula.\n"
   ]
  },
  {
   "cell_type": "code",
   "execution_count": null,
   "id": "8e71b9ab",
   "metadata": {},
   "outputs": [],
   "source": [
    "\n",
    "# Line in standard form: ax + by + c = 0\n",
    "a, b, c = 2, -1, -3\n",
    "x1, y1 = 1, 2\n",
    "\n",
    "# Distance formula\n",
    "distance = abs(a * x1 + b * y1 + c) / sqrt(a**2 + b**2)\n",
    "distance\n"
   ]
  },
  {
   "cell_type": "markdown",
   "id": "14c1bd41",
   "metadata": {},
   "source": [
    "\n",
    "## 8. Equation of Line Through Points A(2,0) and B(0,3)\n"
   ]
  },
  {
   "cell_type": "code",
   "execution_count": null,
   "id": "a686455b",
   "metadata": {},
   "outputs": [],
   "source": [
    "\n",
    "# Points\n",
    "x1, y1 = 2, 0\n",
    "x2, y2 = 0, 3\n",
    "\n",
    "# Slope\n",
    "m_ab = (y2 - y1) / (x2 - x1)\n",
    "\n",
    "# Equation of the line\n",
    "line_eq_ab = Eq(y - y1, m_ab * (x - x1))\n",
    "line_eq_ab\n"
   ]
  },
  {
   "cell_type": "markdown",
   "id": "2f0c92fd",
   "metadata": {},
   "source": [
    "\n",
    "## 9. Angle Between y = x + 3 and the x-axis\n"
   ]
  },
  {
   "cell_type": "code",
   "execution_count": null,
   "id": "a9f5f427",
   "metadata": {},
   "outputs": [],
   "source": [
    "\n",
    "# Slope of line y = x + 3\n",
    "m_axis = 1\n",
    "\n",
    "# Angle with x-axis\n",
    "angle_axis_rad = atan(m_axis)\n",
    "angle_axis_deg = math.degrees(angle_axis_rad)\n",
    "angle_axis_deg\n"
   ]
  },
  {
   "cell_type": "markdown",
   "id": "c8cb1c59",
   "metadata": {},
   "source": [
    "\n",
    "## 10. Perpendicular Vector to Line x + y + 1 = 0\n"
   ]
  },
  {
   "cell_type": "code",
   "execution_count": null,
   "id": "2a911778",
   "metadata": {},
   "outputs": [],
   "source": [
    "\n",
    "# Line normal form: ax + by + c = 0\n",
    "a, b, c = 1, 1, 1\n",
    "\n",
    "# Perpendicular vector\n",
    "perpendicular_vector = [a, b]\n",
    "perpendicular_vector\n"
   ]
  }
 ],
 "metadata": {},
 "nbformat": 4,
 "nbformat_minor": 5
}