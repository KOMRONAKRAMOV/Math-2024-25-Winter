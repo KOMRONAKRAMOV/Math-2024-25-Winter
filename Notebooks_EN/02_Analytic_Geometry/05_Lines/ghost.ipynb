### 1. **Equation of the line passing through points \( A(1, 2) \) and \( B(3, 4) \):**

The slope of a line passing through two points is given by:
\[
m = \frac{y_2 - y_1}{x_2 - x_1} = \frac{4 - 2}{3 - 1} = 1
\]

Using the point-slope formula \( y - y_1 = m(x - x_1) \) with \( m = 1 \) and \( (x_1, y_1) = (1, 2) \), we have:
\[
y - 2 = 1(x - 1)
\]
Simplifying:
\[
y = x + 1
\]

---

### 2. **Equation of the line passing through \( A(1, 2) \) and parallel to \( y = 2x + 3 \):**

A line parallel to \( y = 2x + 3 \) will have the same slope \( m = 2 \). Using the point-slope formula:
\[
y - y_1 = m(x - x_1)
\]
Substitute \( m = 2 \) and \( (x_1, y_1) = (1, 2) \):
\[
y - 2 = 2(x - 1)
\]
Simplifying:
\[
y = 2x
\]

---

### 3. **Equation of the line passing through \( A(1, 2) \) and perpendicular to \( y = 2x + 3 \):**

The slope of a line perpendicular to another is the negative reciprocal. Since the slope of \( y = 2x + 3 \) is \( m = 2 \), the perpendicular slope is:
\[
m_\perp = -\frac{1}{2}
\]

Using the point-slope formula with \( m = -\frac{1}{2} \) and \( (x_1, y_1) = (1, 2) \):
\[
y - 2 = -\frac{1}{2}(x - 1)
\]
Simplifying:
\[
y = -\frac{1}{2}x + \frac{5}{2}
\]

---

### 4. **Intersection of \( y = 2x + 3 \) and \( y = 3x + 2 \):**

At the point of intersection, the \( y \)-values of the two lines are equal:
\[
2x + 3 = 3x + 2
\]
Solving for \( x \):
\[
x = 1
\]
Substitute \( x = 1 \) into either equation, say \( y = 2x + 3 \):
\[
y = 2(1) + 3 = 5
\]
The intersection point is:
\[
(1, 5)
\]

---

### 5. **Equation of the line passing through \( A(1, 2) \) and parallel to \( \vec{v} = [2, 3] \):**

A line parallel to a vector \( \vec{v} = [2, 3] \) has the slope:
\[
m = \frac{3}{2}
\]

Using the point-slope formula with \( m = \frac{3}{2} \) and \( (x_1, y_1) = (1, 2) \):
\[
y - 2 = \frac{3}{2}(x - 1)
\]
Simplifying:
\[
y = \frac{3}{2}x + \frac{1}{2}
\]

---

### 6. **Examples of lines parallel and perpendicular to \( y = 2x + 3 \):**

- A line parallel to \( y = 2x + 3 \) will have slope \( m = 2 \), e.g., \( y = 2x - 4 \).
- A line perpendicular to \( y = 2x + 3 \) will have slope \( m = -\frac{1}{2} \), e.g., \( y = -\frac{1}{2}x + 1 \).

---

### 7. **Distance from \( A(1, 2) \) to \( y = 2x + 3 \):**

The distance from a point \( (x_1, y_1) \) to a line \( ax + by + c = 0 \) is:
\[
d = \frac{\lvert ax_1 + by_1 + c \rvert}{\sqrt{a^2 + b^2}}
\]
Rewrite \( y = 2x + 3 \) in standard form:
\[
2x - y + 3 = 0
\]
Substitute \( (x_1, y_1) = (1, 2) \):
\[
d = \frac{\lvert 2(1) - 2 + 3 \rvert}{\sqrt{2^2 + (-1)^2}} = \frac{\lvert 3 \rvert}{\sqrt{5}} = \frac{3}{\sqrt{5}}
\]

---

### 8. **Equation of the line intersecting axes at \( A(2, 0) \) and \( B(0, 3) \):**

The slope of the line is:
\[
m = \frac{y_2 - y_1}{x_2 - x_1} = \frac{3 - 0}{0 - 2} = -\frac{3}{2}
\]

Using the point-slope formula with \( (x_1, y_1) = (2, 0) \):
\[
y - 0 = -\frac{3}{2}(x - 2)
\]
Simplifying:
\[
y = -\frac{3}{2}x + 3
\]

---

### 9. **Angle between \( y = x + 3 \) and the \( O_x \)-axis:**

The slope of \( y = x + 3 \) is \( m = 1 \). The angle \( \theta \) between the line and the \( O_x \)-axis is given by:
\[
\theta = \arctan(m) = \arctan(1) = 45^\circ
\]

---

### 10. **Vector perpendicular to \( x + y + 1 = 0 \):**

The normal vector of the line \( ax + by + c = 0 \) is \( \vec{n} = [a, b] \). For \( x + y + 1 = 0 \), we have:
\[
\vec{n} = [1, 1]
\]
A perpendicular vector is:
\[
\vec{v} = [-1, 1]
\]
